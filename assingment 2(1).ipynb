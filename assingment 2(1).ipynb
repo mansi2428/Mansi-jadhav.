{
 "cells": [
  {
   "cell_type": "code",
   "execution_count": 3,
   "id": "7883d1a1-e97c-44aa-9cf7-c341b25352d3",
   "metadata": {},
   "outputs": [
    {
     "name": "stdout",
     "output_type": "stream",
     "text": [
      "The original list is : [(5, 6), (5, 7), (5, 8), (6, 10), (7, 13)]\n",
      "The extracted elements : [(5, 6, 7, 8), (6, 10), (7, 13)]\n"
     ]
    }
   ],
   "source": [
    "## Q1)  Join Tuples if similar initial element\n",
    "\n",
    "\n",
    "test_list = [(5, 6), (5, 7), (5, 8), (6, 10), (7, 13)]\n",
    "\n",
    "print(\"The original list is : \" + str(test_list))\n",
    " \n",
    "output_list = []\n",
    "for sub in test_list:\n",
    "    if output_list and output_list[-1][0] == sub[0]:\n",
    "        output_list[-1].extend(sub[1:])\n",
    "    else:\n",
    "        output_list.append([ele for ele in sub])\n",
    "output_list = list(map(tuple, output_list))\n",
    " \n",
    "print(\"The extracted elements : \" + str(output_list))"
   ]
  },
  {
   "cell_type": "code",
   "execution_count": 4,
   "id": "69ef3856-0990-4fcd-981f-f43f5275382c",
   "metadata": {},
   "outputs": [
    {
     "name": "stdout",
     "output_type": "stream",
     "text": [
      "(2801, 561, 85, 45, 281)\n"
     ]
    }
   ],
   "source": [
    "## Q2) Multiply Adjacent elements (both side) and take sum of right and lest side multiplication result.\n",
    "def multiply_and_sum_adjacent_elements(ot):\n",
    "    result = []\n",
    "    for i in range(len(ot)):\n",
    "        left_product = 1\n",
    "        right_product = 1\n",
    "        for j in range(i):\n",
    "            left_product *= ot[j]\n",
    "        for k in range(i + 1, len(ot)):\n",
    "            right_product *= ot[k]\n",
    "        result.append(left_product + right_product)\n",
    "    return tuple(result)\n",
    "\n",
    "ot = (1,5,7,8,10)\n",
    "rt = multiply_and_sum_adjacent_elements(ot)\n",
    "print(rt)"
   ]
  },
  {
   "cell_type": "code",
   "execution_count": 5,
   "id": "ad4e9715-beb4-4e12-8d95-9fb4a90ffa83",
   "metadata": {},
   "outputs": [
    {
     "name": "stdout",
     "output_type": "stream",
     "text": [
      "Tuple are same.\n"
     ]
    }
   ],
   "source": [
    "## Q3) Check is tuples are same or not?\n",
    "\n",
    "t1 = (1,2,3,4)\n",
    "t2 = (1,2,3,4)\n",
    "if t1 == t2:\n",
    "    print(\"Tuple are same.\")\n",
    "else:\n",
    "    print(\"Tuple are not same.\")"
   ]
  },
  {
   "cell_type": "code",
   "execution_count": 6,
   "id": "a0ab69b8-e816-481d-82d8-4270a105fbc7",
   "metadata": {},
   "outputs": [
    {
     "name": "stdout",
     "output_type": "stream",
     "text": [
      "Number of tuples: 0\n",
      "Number of lists: 0\n",
      "Number of sets: 2\n"
     ]
    }
   ],
   "source": [
    "## Q4)  Count no of tuples, list and set from a list\n",
    "my_list = [{'hi', 'bye'}, {'Geeks', 'forGeeks'}, 'a', 'b']\n",
    "\n",
    "tuple_count = 0\n",
    "list_count = 0\n",
    "set_count = 0\n",
    "\n",
    "for elem in my_list:\n",
    "    if isinstance(elem, tuple):\n",
    "        tuple_count += 1\n",
    "    elif isinstance(elem, list):\n",
    "        list_count += 1\n",
    "    elif isinstance(elem, set):\n",
    "        set_count += 1\n",
    "\n",
    "print(f\"Number of tuples: {tuple_count}\")\n",
    "print(f\"Number of lists: {list_count}\")\n",
    "print(f\"Number of sets: {set_count}\")\n"
   ]
  },
  {
   "cell_type": "code",
   "execution_count": null,
   "id": "c9974b2a-d148-4cbd-9ce0-68dc1a40f92b",
   "metadata": {},
   "outputs": [
    {
     "name": "stdin",
     "output_type": "stream",
     "text": [
      "Enter the number of students:  2\n",
      "Enter student name:  mansi\n",
      "Enter student's primary skill:  java\n"
     ]
    }
   ],
   "source": [
    "## Q5)  Shortlist Students for a Job role\n",
    "num_students = int(input(\"Enter the number of students: \"))\n",
    "students = []  \n",
    "for _ in range(num_students):\n",
    "    name = input(\"Enter student name: \")\n",
    "    primary_skill = input(\"Enter student's primary skill: \")\n",
    "    higher_education = input(\"Enter student's higher education: \")\n",
    "    year_of_graduation = int(input(\"Enter student's year of graduation: \"))\n",
    "    students.append((name, primary_skill, higher_education, year_of_graduation))\n",
    "\n",
    "desired_primary_skill = input(\"Enter the desired primary skill: \")\n",
    "desired_higher_education = input(\"Enter the desired higher education: \")\n",
    "desired_year_of_graduation = int(input(\"Enter the desired year of graduation: \"))\n",
    "\n",
    "found_match = False\n",
    "for student in students:\n",
    "    name, skill, education, graduation_year = student\n",
    "    if (\n",
    "        skill == desired_primary_skill\n",
    "        and education == desired_higher_education\n",
    "        and graduation_year == desired_year_of_graduation\n",
    "    ):\n",
    "        print(f\"Match found: {student}\")\n",
    "        found_match = True\n",
    "\n",
    "if not found_match:\n",
    "    print(\"No such candidate.\")"
   ]
  },
  {
   "cell_type": "code",
   "execution_count": 1,
   "id": "b1bc89fd-40c9-43de-b600-8f9a70bbf0b7",
   "metadata": {},
   "outputs": [
    {
     "name": "stdout",
     "output_type": "stream",
     "text": [
      "Common elements: [80, 20]\n"
     ]
    }
   ],
   "source": [
    "## Q1) Write a program to find set of common elements in three lists using sets.\n",
    "\n",
    "\n",
    "def find_common_elements(ar1, ar2, ar3):\n",
    "\n",
    "    set1 = set(ar1)\n",
    "    set2 = set(ar2)\n",
    "    set3 = set(ar3)\n",
    "    \n",
    "    common_elements = set1.intersection(set2, set3)\n",
    "    \n",
    "    return list(common_elements)\n",
    "\n",
    "ar1 = [1, 5, 10, 20, 40, 80]\n",
    "ar2 = [6, 7, 20, 80, 100]\n",
    "ar3 = [3, 4, 15, 20, 30, 70, 80, 120]\n",
    "\n",
    "\n",
    "result = find_common_elements(ar1, ar2, ar3)\n",
    "print(\"Common elements:\", result)\n"
   ]
  },
  {
   "cell_type": "code",
   "execution_count": 2,
   "id": "480918b2-6ece-4f9c-bde7-1813f12d0edf",
   "metadata": {},
   "outputs": [
    {
     "name": "stdout",
     "output_type": "stream",
     "text": [
      "No. of unique vowels: 28\n"
     ]
    }
   ],
   "source": [
    "## Q2) Write a program to count unique number of vowels using sets in a given string. Lowercase and upercase vowels will be taken as different.\n",
    "def count_unique_vowels(s):\n",
    "    vowels = set(\"aeiouAEIOU\")\n",
    "    \n",
    "    unique_vowels_count = 0\n",
    "    \n",
    "    for char in s:\n",
    "        if char in vowels:\n",
    "            unique_vowels_count += 1\n",
    "    \n",
    "    return unique_vowels_count\n",
    "\n",
    "str1 = \"hands-on data science mentorship progrAm with live classes at affordable fee only on CampusX\"\n",
    "result = count_unique_vowels(str1)\n",
    "print(f\"No. of unique vowels: {result}\")"
   ]
  },
  {
   "cell_type": "code",
   "execution_count": 3,
   "id": "753b6f81-c28d-443f-aaae-8bdce0d48953",
   "metadata": {},
   "outputs": [
    {
     "name": "stdin",
     "output_type": "stream",
     "text": [
      "Enter a string:  2121212121\n"
     ]
    },
    {
     "name": "stdout",
     "output_type": "stream",
     "text": [
      "No\n"
     ]
    }
   ],
   "source": [
    "## Q3) Write a program to Check if a given string is binary string of or not.\n",
    "def check_binary(string):\n",
    "    unique_chars = set(string)\n",
    "    binary_chars = {'0', '1'}\n",
    "    if unique_chars == binary_chars or unique_chars == {'0'} or unique_chars == {'1'}:\n",
    "        return \"Yes\"\n",
    "    else:\n",
    "        return \"No\"\n",
    "\n",
    "user_input = input(\"Enter a string: \")\n",
    "print(check_binary(user_input))"
   ]
  },
  {
   "cell_type": "code",
   "execution_count": 4,
   "id": "02b138e9-c873-4b86-8f7a-fb876206f9e9",
   "metadata": {},
   "outputs": [
    {
     "name": "stdout",
     "output_type": "stream",
     "text": [
      "[1, 2, 3, 4, 5, 6, 7, 9]\n"
     ]
    }
   ],
   "source": [
    "## Q4) find union of n arrays.\n",
    "def find_union(arrays):\n",
    "    result_set = set()\n",
    "    for arr in arrays:\n",
    "        result_set.update(arr)\n",
    "    return sorted(result_set)\n",
    "\n",
    "input_arrays = [[1, 2, 2, 4, 3, 6], [5, 1, 3, 4], [9, 5, 7, 1], [2, 4, 1, 3]]\n",
    "output_union = find_union(input_arrays)\n",
    "print(output_union)"
   ]
  },
  {
   "cell_type": "code",
   "execution_count": 6,
   "id": "d5b93c29-0abe-4324-aa81-93a2a6ae0514",
   "metadata": {},
   "outputs": [
    {
     "name": "stdout",
     "output_type": "stream",
     "text": [
      "[9, 10, 5, 4, 9]\n"
     ]
    }
   ],
   "source": [
    "# Q5) Intersection of two lists. Intersection of two list means we need to take all those elements which are common to both of the initial lists and store them into another list. Only use using list-comprehension.\n",
    "def intersection(lst1, lst2):\n",
    "    return [value for value in lst1 if value in lst2]\n",
    "\n",
    "lst1 = [15, 9, 10, 56, 23, 78, 5, 4, 9]\n",
    "lst2 = [9, 4, 5, 36, 47, 26, 10, 45, 87]\n",
    "result = intersection(lst1, lst2)\n",
    "print(result)  "
   ]
  },
  {
   "cell_type": "code",
   "execution_count": 1,
   "id": "8690ceba-0896-4f64-80ef-9412a372da40",
   "metadata": {},
   "outputs": [
    {
     "name": "stdout",
     "output_type": "stream",
     "text": [
      "is\n"
     ]
    }
   ],
   "source": [
    "## Q1) Key with maximum unique values\n",
    "test_dict = {\"CampusX\" : [5, 7, 9, 4, 0], \"is\" : [6, 7, 4, 3, 3], \"Best\" : [9, 9, 6, 5, 5]}\n",
    "print(max(test_dict))"
   ]
  },
  {
   "cell_type": "code",
   "execution_count": 6,
   "id": "6a12de80-c246-4f08-97b0-07c8ec354027",
   "metadata": {},
   "outputs": [
    {
     "ename": "NameError",
     "evalue": "name 'Replace_string' is not defined",
     "output_type": "error",
     "traceback": [
      "\u001b[1;31m---------------------------------------------------------------------------\u001b[0m",
      "\u001b[1;31mNameError\u001b[0m                                 Traceback (most recent call last)",
      "Cell \u001b[1;32mIn[6], line 4\u001b[0m\n\u001b[0;32m      2\u001b[0m test_str \u001b[38;5;241m=\u001b[39m \u001b[38;5;124m'\u001b[39m\u001b[38;5;124mCampusX best for DS students.\u001b[39m\u001b[38;5;124m'\u001b[39m\n\u001b[0;32m      3\u001b[0m repl_dict \u001b[38;5;241m=\u001b[39m {\u001b[38;5;124m\"\u001b[39m\u001b[38;5;124mbest\u001b[39m\u001b[38;5;124m\"\u001b[39m: \u001b[38;5;124m\"\u001b[39m\u001b[38;5;124mis the best channel\u001b[39m\u001b[38;5;124m\"\u001b[39m, \u001b[38;5;124m\"\u001b[39m\u001b[38;5;124mDS\u001b[39m\u001b[38;5;124m\"\u001b[39m: \u001b[38;5;124m\"\u001b[39m\u001b[38;5;124mData-Science\u001b[39m\u001b[38;5;124m\"\u001b[39m}\n\u001b[1;32m----> 4\u001b[0m output \u001b[38;5;241m=\u001b[39m Replace_string(test_str, repl_dict)\n\u001b[0;32m      5\u001b[0m \u001b[38;5;28mprint\u001b[39m(\u001b[38;5;124m\"\u001b[39m\u001b[38;5;124mReplaced Strings:\u001b[39m\u001b[38;5;124m\"\u001b[39m, output)\n",
      "\u001b[1;31mNameError\u001b[0m: name 'Replace_string' is not defined"
     ]
    }
   ],
   "source": [
    "## Q2) Replace words from Dictionary. Given String, replace it’s words from lookup dictionary.\n",
    "test_str = 'CampusX best for DS students.'\n",
    "repl_dict = {\"best\": \"is the best channel\", \"DS\": \"Data-Science\"}\n",
    "output = Replace_string(test_str, repl_dict)\n",
    "print(\"Replaced Strings:\", output)\n",
    "\n"
   ]
  },
  {
   "cell_type": "code",
   "execution_count": 7,
   "id": "2a59a3d2-9edc-4892-8556-d9bbf88b934d",
   "metadata": {},
   "outputs": [
    {
     "name": "stdout",
     "output_type": "stream",
     "text": [
      "The constructed dictionary list: [{'name': 'datascience', 'id': 3}, {'name': 'is', 'id': 8}]\n"
     ]
    }
   ],
   "source": [
    "## Q3) Convert List to List of dictionaries. Given list values and keys list, convert these values to key value pairs in form of list of dictionaries.\n",
    "test_list = [\"datascience\", 3, \"is\", 8]\n",
    "key_list = [\"name\", \"id\"]\n",
    "\n",
    "n = len(test_list)\n",
    "res = []\n",
    "for idx in range(0, n, 2):\n",
    "    res.append({key_list[0]: test_list[idx], key_list[1]: test_list[idx + 1]})\n",
    "\n",
    "print(\"The constructed dictionary list:\", res)\n"
   ]
  },
  {
   "cell_type": "code",
   "execution_count": 8,
   "id": "2ad72ddd-ef27-42a4-a89a-6d5723e8cab8",
   "metadata": {},
   "outputs": [
    {
     "name": "stdout",
     "output_type": "stream",
     "text": [
      "{'akash': [10], 'gaurav': [12], 'anand': [14], 'suraj': [20], 'akhil': [25], 'ashish': [30]}\n"
     ]
    }
   ],
   "source": [
    "## Q4) Convert a list of Tuples into Dictionary.\n",
    "def convert_to_dict(tup):\n",
    "    result_dict = {}\n",
    "    for key, value in tup:\n",
    "        result_dict.setdefault(key, []).append(value)\n",
    "    return result_dict\n",
    "\n",
    "input_list = [(\"akash\", 10), (\"gaurav\", 12), (\"anand\", 14), (\"suraj\", 20), (\"akhil\", 25), (\"ashish\", 30)]\n",
    "output_dict = convert_to_dict(input_list)\n",
    "print(output_dict)\n"
   ]
  },
  {
   "cell_type": "code",
   "execution_count": 9,
   "id": "d530c64a-fb9a-4dec-aa54-9e8a20f1d0ad",
   "metadata": {},
   "outputs": [
    {
     "name": "stdout",
     "output_type": "stream",
     "text": [
      "{'a': [4, 19], 'b': [10, 12], 'c': [3]}\n"
     ]
    }
   ],
   "source": [
    "## Q5) Sort Dictionary key and values List.\n",
    "input_dict = {'c': [3], 'b': [12, 10], 'a': [19, 4]}\n",
    "output_dict = {key: sorted(input_dict[key]) for key in sorted(input_dict)}\n",
    "print(output_dict)\n"
   ]
  },
  {
   "cell_type": "code",
   "execution_count": null,
   "id": "9cc210f1-cc22-4767-9e25-9223e11eaf17",
   "metadata": {},
   "outputs": [],
   "source": []
  }
 ],
 "metadata": {
  "kernelspec": {
   "display_name": "Python 3 (ipykernel)",
   "language": "python",
   "name": "python3"
  },
  "language_info": {
   "codemirror_mode": {
    "name": "ipython",
    "version": 3
   },
   "file_extension": ".py",
   "mimetype": "text/x-python",
   "name": "python",
   "nbconvert_exporter": "python",
   "pygments_lexer": "ipython3",
   "version": "3.11.7"
  }
 },
 "nbformat": 4,
 "nbformat_minor": 5
}
