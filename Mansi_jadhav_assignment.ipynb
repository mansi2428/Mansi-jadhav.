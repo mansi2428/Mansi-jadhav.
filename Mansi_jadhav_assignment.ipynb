{
 "cells": [
  {
   "cell_type": "code",
   "execution_count": 22,
   "id": "3e23b6d0-6c23-48c9-9dab-ba8a69859d0a",
   "metadata": {},
   "outputs": [
    {
     "name": "stdout",
     "output_type": "stream",
     "text": [
      "original list: [1, 2, 300, 4, 5, 300]\n",
      "odd numbers list: [1, 5]\n",
      "even numbers list: [2, 300, 4, 300]\n"
     ]
    }
   ],
   "source": [
    "#Q.1 create 2 lists from a given list where \n",
    "#1st list will contain all the odd numbers from the orignal list and \n",
    "#2nd one will contain all the even numbers\n",
    "\n",
    "odd_numbers =[]\n",
    "even_numbers =[]\n",
    "\n",
    "for num in L:\n",
    "    if num % 2 == 0:\n",
    "        even_numbers.append(num)\n",
    "    else:\n",
    "        odd_numbers.append(num)\n",
    "\n",
    "print(\"original list:\",L)\n",
    "print(\"odd numbers list:\",odd_numbers)\n",
    "print(\"even numbers list:\",even_numbers)"
   ]
  },
  {
   "cell_type": "code",
   "execution_count": 11,
   "id": "e4afa62d-7399-410a-948b-8d50002b7f92",
   "metadata": {},
   "outputs": [
    {
     "name": "stdin",
     "output_type": "stream",
     "text": [
      "enter number of elements: 1\n",
      " 2\n"
     ]
    },
    {
     "name": "stdout",
     "output_type": "stream",
     "text": [
      "[2]\n"
     ]
    }
   ],
   "source": [
    "#Q.2how to take list as input from user\n",
    "\n",
    "lst=[]\n",
    "\n",
    "# number of element as input \n",
    "n=int(input(\"enter number of elements:\"))\n",
    "\n",
    "# iteration till the range \n",
    "for i in range(0,n):\n",
    "    ele=int(input())\n",
    "# adding the element \n",
    "    lst.append(ele)\n",
    "print(lst)\n"
   ]
  },
  {
   "cell_type": "code",
   "execution_count": 12,
   "id": "bd03536b-0e74-47b4-a4cf-db5cd0871a1c",
   "metadata": {},
   "outputs": [
    {
     "name": "stdout",
     "output_type": "stream",
     "text": [
      "merged list are: [1, 2, 3, 4, 5, 6, 7, 8]\n"
     ]
    }
   ],
   "source": [
    "#Q.3. write a program to merge 2list without using the +operator\n",
    "\n",
    "L1=[1,2,3,4]\n",
    "L2=[5,6,7,8]\n",
    "\n",
    "for item in L2:\n",
    "    L1.append(item)\n",
    "print(\"merged list are:\",L1)"
   ]
  },
  {
   "cell_type": "code",
   "execution_count": 18,
   "id": "dd6639f0-d07e-4000-b0d8-3463e12b4a16",
   "metadata": {},
   "outputs": [
    {
     "name": "stdout",
     "output_type": "stream",
     "text": [
      "[1, 2, 300, 4, 5, 300]\n"
     ]
    }
   ],
   "source": [
    "#Q.4.write a program to replace an item with a diffrent itm if found in the list\n",
    "L=[1,2,3,4,5,3]\n",
    "replacement_item=300\n",
    "\n",
    "for i in range(len(L)):\n",
    "    if L[i]==3:\n",
    "        L[i]=replacement_item \n",
    "print(L)"
   ]
  },
  {
   "cell_type": "code",
   "execution_count": 15,
   "id": "7f768271-ce80-45de-a120-d1075fb20c45",
   "metadata": {},
   "outputs": [
    {
     "name": "stdout",
     "output_type": "stream",
     "text": [
      "ONED_list: [1, 2, 3, 4, 5, 6, 7, 8, 9]\n"
     ]
    }
   ],
   "source": [
    "#Q.5.writing a program that can convert a 2D list to 1D list\n",
    "TWOD_list=[[1,2,3],[4,5,6],[7,8,9]]\n",
    "NEW_list=sum(TWOD_list,[])\n",
    "print(\"ONED_list:\",NEW_list)"
   ]
  },
  {
   "cell_type": "code",
   "execution_count": 16,
   "id": "7c109cb2-a5f7-41a0-a28e-cf71043a8192",
   "metadata": {},
   "outputs": [
    {
     "name": "stdout",
     "output_type": "stream",
     "text": [
      "The new list are: [1, 2, 3, 4, 5]\n"
     ]
    }
   ],
   "source": [
    "#Q.6.writing a program to remove duplicate items from a list\n",
    "L=[1,2,1,2,3,4,5,3,4]\n",
    "new_list=list(set(L))\n",
    "print(\"The new list are:\",new_list)"
   ]
  },
  {
   "cell_type": "code",
   "execution_count": 17,
   "id": "3da43a0b-7288-4c29-97b9-af2525eb34a2",
   "metadata": {},
   "outputs": [
    {
     "name": "stdout",
     "output_type": "stream",
     "text": [
      "yes,the list is sorted.\n"
     ]
    }
   ],
   "source": [
    "#Q.7.write a program to check if a list is in ascending order or not\n",
    "test_list=[1,4,5,8,10]\n",
    "\n",
    "is_sorted=all(a<=b for a,b in zip(test_list,test_list[1:]))\n",
    "\n",
    "if is_sorted:\n",
    "    print(\"yes,the list is sorted.\")\n",
    "else:\n",
    "    print(\"no,the list is not sorted.\")"
   ]
  },
  {
   "cell_type": "code",
   "execution_count": null,
   "id": "0924c2eb-c826-413d-969f-fb0862dec5c5",
   "metadata": {},
   "outputs": [],
   "source": []
  }
 ],
 "metadata": {
  "kernelspec": {
   "display_name": "Python 3 (ipykernel)",
   "language": "python",
   "name": "python3"
  },
  "language_info": {
   "codemirror_mode": {
    "name": "ipython",
    "version": 3
   },
   "file_extension": ".py",
   "mimetype": "text/x-python",
   "name": "python",
   "nbconvert_exporter": "python",
   "pygments_lexer": "ipython3",
   "version": "3.11.7"
  }
 },
 "nbformat": 4,
 "nbformat_minor": 5
}
